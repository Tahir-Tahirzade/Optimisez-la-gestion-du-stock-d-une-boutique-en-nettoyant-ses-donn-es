{
 "cells": [
  {
   "cell_type": "markdown",
   "id": "97dccc01",
   "metadata": {},
   "source": [
    "<div style=\"display: flex; background-color: RGB(255,114,0);\" >\n",
    "<h1 style=\"margin: auto; padding: 30px; \">ANALYSE DU STOCK ET DES VENTES DU SITE BOTTLENECK</h1>\n",
    "</div>"
   ]
  },
  {
   "cell_type": "markdown",
   "id": "4d0d1bb8",
   "metadata": {},
   "source": [
    "# OBJECTIF DE CE NOTEBOOK\n",
    "\n",
    "Bienvenue dans l'outil plébiscité par les analystes de données Jupyter.\n",
    "\n",
    "Il s'agit d'un outil permettant de mixer et d'alterner codes, textes et graphique.\n",
    "\n",
    "Cet outil est formidable pour plusieurs raisons:\n",
    "\n",
    "+ il permet de tester des lignes de codes au fur et à mesure de votre rédaction, de constater immédiatement le résultat d'un instruction, de la corriger si nécessaire.\n",
    "+ De rédiger du texte pour expliquer l'approche suivie ou les résultats d'une analyse et de le mettre en forme grâce à du code html ou plus simple avec **Markdown**\n",
    "+ d'agrémenter de graphiques\n",
    "\n",
    "Pour vous aider dans vos premiers pas à l'usage de Jupyter et de Python, nous avons rédigé ce notebook en vous indiquant les instructions à suivre.\n",
    "\n",
    "Il vous suffit pour cela de saisir le code Python répondant à l'instruction donnée.\n",
    "\n",
    "Vous verrez de temps à autre le code Python répondant à une instruction donnée mais cela est fait pour vous aider à comprendre la nature du travail qui vous est demandée.\n",
    "\n",
    "Et garder à l'esprit, qu'il n'y a pas de solution unique pour résoudre un problème et qu'il y a autant de résolutions de problèmes que de développeurs ;)...\n",
    "\n"
   ]
  },
  {
   "cell_type": "markdown",
   "id": "b85efb87",
   "metadata": {},
   "source": [
    "<div style=\"background-color: RGB(51,165,182);\" >\n",
    "<h2 style=\"margin: auto; padding: 20px; color:#fff; \">Etape 1 - Importation des librairies et chargement des fichiers</h2>\n",
    "</div>"
   ]
  },
  {
   "cell_type": "markdown",
   "id": "b5449401",
   "metadata": {},
   "source": [
    "<div style=\"border: 1px solid RGB(51,165,182);\" >\n",
    "<h3 style=\"margin: auto; padding: 20px; color: RGB(51,165,182); \">1.1 - Importation des librairies</h3>\n",
    "</div>"
   ]
  },
  {
   "cell_type": "code",
   "execution_count": 1,
   "id": "e6ef06ec",
   "metadata": {},
   "outputs": [],
   "source": [
    "#Importation de la librairie Pandas\n",
    "import pandas as pd"
   ]
  },
  {
   "cell_type": "code",
   "execution_count": 2,
   "id": "a38ce0fc",
   "metadata": {},
   "outputs": [],
   "source": [
    "#Importation de la librairie plotly express\n",
    "import plotly.express as px"
   ]
  },
  {
   "cell_type": "code",
   "execution_count": null,
   "id": "0a718067",
   "metadata": {},
   "outputs": [],
   "source": [
    "#Trouver dans Google l'instruction permettant d'afficher toutes les colonnes d'un dataframe\n",
    "#Saisir, dans Google, les mots clés \"display all columns dataframe Pandas\", par exemple.\n",
    "#Dans les résultats de la recherche, privilégiez les solutions provenants de Stack Overflow ou Medium"
   ]
  },
  {
   "cell_type": "code",
   "execution_count": 10,
   "id": "9642cf03",
   "metadata": {},
   "outputs": [
    {
     "ename": "FileNotFoundError",
     "evalue": "[Errno 2] No such file or directory: 'C:\\\\Users\\\\M22O101\\\\Downloads\\\\Openclasroom\\\\Projet 6\\\\web.xlsx'",
     "output_type": "error",
     "traceback": [
      "\u001b[1;31m---------------------------------------------------------------------------\u001b[0m",
      "\u001b[1;31mFileNotFoundError\u001b[0m                         Traceback (most recent call last)",
      "Cell \u001b[1;32mIn[10], line 4\u001b[0m\n\u001b[0;32m      1\u001b[0m \u001b[38;5;28;01mimport\u001b[39;00m \u001b[38;5;21;01mpandas\u001b[39;00m \u001b[38;5;28;01mas\u001b[39;00m \u001b[38;5;21;01mpd\u001b[39;00m\n\u001b[0;32m      3\u001b[0m \u001b[38;5;66;03m# Importation du fichier web.xlsx\u001b[39;00m\n\u001b[1;32m----> 4\u001b[0m df_web \u001b[38;5;241m=\u001b[39m \u001b[43mpd\u001b[49m\u001b[38;5;241;43m.\u001b[39;49m\u001b[43mread_excel\u001b[49m\u001b[43m(\u001b[49m\u001b[38;5;124;43mr\u001b[39;49m\u001b[38;5;124;43m\"\u001b[39;49m\u001b[38;5;124;43mC:\u001b[39;49m\u001b[38;5;124;43m\\\u001b[39;49m\u001b[38;5;124;43mUsers\u001b[39;49m\u001b[38;5;124;43m\\\u001b[39;49m\u001b[38;5;124;43mM22O101\u001b[39;49m\u001b[38;5;124;43m\\\u001b[39;49m\u001b[38;5;124;43mDownloads\u001b[39;49m\u001b[38;5;124;43m\\\u001b[39;49m\u001b[38;5;124;43mOpenclasroom\u001b[39;49m\u001b[38;5;124;43m\\\u001b[39;49m\u001b[38;5;124;43mProjet 6\u001b[39;49m\u001b[38;5;124;43m\\\u001b[39;49m\u001b[38;5;124;43mweb.xlsx\u001b[39;49m\u001b[38;5;124;43m\"\u001b[39;49m\u001b[43m)\u001b[49m\n\u001b[0;32m      6\u001b[0m \u001b[38;5;66;03m# Importation du fichier erp.xlsx\u001b[39;00m\n\u001b[0;32m      7\u001b[0m df_erp \u001b[38;5;241m=\u001b[39m pd\u001b[38;5;241m.\u001b[39mread_excel(\u001b[38;5;124mr\u001b[39m\u001b[38;5;124m\"\u001b[39m\u001b[38;5;124mC:\u001b[39m\u001b[38;5;124m\\\u001b[39m\u001b[38;5;124mUsers\u001b[39m\u001b[38;5;124m\\\u001b[39m\u001b[38;5;124mM22O101\u001b[39m\u001b[38;5;124m\\\u001b[39m\u001b[38;5;124mDownloads\u001b[39m\u001b[38;5;124m\\\u001b[39m\u001b[38;5;124mOpenclasroom\u001b[39m\u001b[38;5;124m\\\u001b[39m\u001b[38;5;124mProjet 6\u001b[39m\u001b[38;5;124m\\\u001b[39m\u001b[38;5;124merp.xlsx\u001b[39m\u001b[38;5;124m\"\u001b[39m)\n",
      "File \u001b[1;32m~\\Downloads\\Nouveau dossier\\lib\\site-packages\\pandas\\util\\_decorators.py:211\u001b[0m, in \u001b[0;36mdeprecate_kwarg.<locals>._deprecate_kwarg.<locals>.wrapper\u001b[1;34m(*args, **kwargs)\u001b[0m\n\u001b[0;32m    209\u001b[0m     \u001b[38;5;28;01melse\u001b[39;00m:\n\u001b[0;32m    210\u001b[0m         kwargs[new_arg_name] \u001b[38;5;241m=\u001b[39m new_arg_value\n\u001b[1;32m--> 211\u001b[0m \u001b[38;5;28;01mreturn\u001b[39;00m func(\u001b[38;5;241m*\u001b[39margs, \u001b[38;5;241m*\u001b[39m\u001b[38;5;241m*\u001b[39mkwargs)\n",
      "File \u001b[1;32m~\\Downloads\\Nouveau dossier\\lib\\site-packages\\pandas\\util\\_decorators.py:331\u001b[0m, in \u001b[0;36mdeprecate_nonkeyword_arguments.<locals>.decorate.<locals>.wrapper\u001b[1;34m(*args, **kwargs)\u001b[0m\n\u001b[0;32m    325\u001b[0m \u001b[38;5;28;01mif\u001b[39;00m \u001b[38;5;28mlen\u001b[39m(args) \u001b[38;5;241m>\u001b[39m num_allow_args:\n\u001b[0;32m    326\u001b[0m     warnings\u001b[38;5;241m.\u001b[39mwarn(\n\u001b[0;32m    327\u001b[0m         msg\u001b[38;5;241m.\u001b[39mformat(arguments\u001b[38;5;241m=\u001b[39m_format_argument_list(allow_args)),\n\u001b[0;32m    328\u001b[0m         \u001b[38;5;167;01mFutureWarning\u001b[39;00m,\n\u001b[0;32m    329\u001b[0m         stacklevel\u001b[38;5;241m=\u001b[39mfind_stack_level(),\n\u001b[0;32m    330\u001b[0m     )\n\u001b[1;32m--> 331\u001b[0m \u001b[38;5;28;01mreturn\u001b[39;00m func(\u001b[38;5;241m*\u001b[39margs, \u001b[38;5;241m*\u001b[39m\u001b[38;5;241m*\u001b[39mkwargs)\n",
      "File \u001b[1;32m~\\Downloads\\Nouveau dossier\\lib\\site-packages\\pandas\\io\\excel\\_base.py:482\u001b[0m, in \u001b[0;36mread_excel\u001b[1;34m(io, sheet_name, header, names, index_col, usecols, squeeze, dtype, engine, converters, true_values, false_values, skiprows, nrows, na_values, keep_default_na, na_filter, verbose, parse_dates, date_parser, thousands, decimal, comment, skipfooter, convert_float, mangle_dupe_cols, storage_options)\u001b[0m\n\u001b[0;32m    480\u001b[0m \u001b[38;5;28;01mif\u001b[39;00m \u001b[38;5;129;01mnot\u001b[39;00m \u001b[38;5;28misinstance\u001b[39m(io, ExcelFile):\n\u001b[0;32m    481\u001b[0m     should_close \u001b[38;5;241m=\u001b[39m \u001b[38;5;28;01mTrue\u001b[39;00m\n\u001b[1;32m--> 482\u001b[0m     io \u001b[38;5;241m=\u001b[39m \u001b[43mExcelFile\u001b[49m\u001b[43m(\u001b[49m\u001b[43mio\u001b[49m\u001b[43m,\u001b[49m\u001b[43m \u001b[49m\u001b[43mstorage_options\u001b[49m\u001b[38;5;241;43m=\u001b[39;49m\u001b[43mstorage_options\u001b[49m\u001b[43m,\u001b[49m\u001b[43m \u001b[49m\u001b[43mengine\u001b[49m\u001b[38;5;241;43m=\u001b[39;49m\u001b[43mengine\u001b[49m\u001b[43m)\u001b[49m\n\u001b[0;32m    483\u001b[0m \u001b[38;5;28;01melif\u001b[39;00m engine \u001b[38;5;129;01mand\u001b[39;00m engine \u001b[38;5;241m!=\u001b[39m io\u001b[38;5;241m.\u001b[39mengine:\n\u001b[0;32m    484\u001b[0m     \u001b[38;5;28;01mraise\u001b[39;00m \u001b[38;5;167;01mValueError\u001b[39;00m(\n\u001b[0;32m    485\u001b[0m         \u001b[38;5;124m\"\u001b[39m\u001b[38;5;124mEngine should not be specified when passing \u001b[39m\u001b[38;5;124m\"\u001b[39m\n\u001b[0;32m    486\u001b[0m         \u001b[38;5;124m\"\u001b[39m\u001b[38;5;124man ExcelFile - ExcelFile already has the engine set\u001b[39m\u001b[38;5;124m\"\u001b[39m\n\u001b[0;32m    487\u001b[0m     )\n",
      "File \u001b[1;32m~\\Downloads\\Nouveau dossier\\lib\\site-packages\\pandas\\io\\excel\\_base.py:1652\u001b[0m, in \u001b[0;36mExcelFile.__init__\u001b[1;34m(self, path_or_buffer, engine, storage_options)\u001b[0m\n\u001b[0;32m   1650\u001b[0m     ext \u001b[38;5;241m=\u001b[39m \u001b[38;5;124m\"\u001b[39m\u001b[38;5;124mxls\u001b[39m\u001b[38;5;124m\"\u001b[39m\n\u001b[0;32m   1651\u001b[0m \u001b[38;5;28;01melse\u001b[39;00m:\n\u001b[1;32m-> 1652\u001b[0m     ext \u001b[38;5;241m=\u001b[39m \u001b[43minspect_excel_format\u001b[49m\u001b[43m(\u001b[49m\n\u001b[0;32m   1653\u001b[0m \u001b[43m        \u001b[49m\u001b[43mcontent_or_path\u001b[49m\u001b[38;5;241;43m=\u001b[39;49m\u001b[43mpath_or_buffer\u001b[49m\u001b[43m,\u001b[49m\u001b[43m \u001b[49m\u001b[43mstorage_options\u001b[49m\u001b[38;5;241;43m=\u001b[39;49m\u001b[43mstorage_options\u001b[49m\n\u001b[0;32m   1654\u001b[0m \u001b[43m    \u001b[49m\u001b[43m)\u001b[49m\n\u001b[0;32m   1655\u001b[0m     \u001b[38;5;28;01mif\u001b[39;00m ext \u001b[38;5;129;01mis\u001b[39;00m \u001b[38;5;28;01mNone\u001b[39;00m:\n\u001b[0;32m   1656\u001b[0m         \u001b[38;5;28;01mraise\u001b[39;00m \u001b[38;5;167;01mValueError\u001b[39;00m(\n\u001b[0;32m   1657\u001b[0m             \u001b[38;5;124m\"\u001b[39m\u001b[38;5;124mExcel file format cannot be determined, you must specify \u001b[39m\u001b[38;5;124m\"\u001b[39m\n\u001b[0;32m   1658\u001b[0m             \u001b[38;5;124m\"\u001b[39m\u001b[38;5;124man engine manually.\u001b[39m\u001b[38;5;124m\"\u001b[39m\n\u001b[0;32m   1659\u001b[0m         )\n",
      "File \u001b[1;32m~\\Downloads\\Nouveau dossier\\lib\\site-packages\\pandas\\io\\excel\\_base.py:1525\u001b[0m, in \u001b[0;36minspect_excel_format\u001b[1;34m(content_or_path, storage_options)\u001b[0m\n\u001b[0;32m   1522\u001b[0m \u001b[38;5;28;01mif\u001b[39;00m \u001b[38;5;28misinstance\u001b[39m(content_or_path, \u001b[38;5;28mbytes\u001b[39m):\n\u001b[0;32m   1523\u001b[0m     content_or_path \u001b[38;5;241m=\u001b[39m BytesIO(content_or_path)\n\u001b[1;32m-> 1525\u001b[0m \u001b[38;5;28;01mwith\u001b[39;00m \u001b[43mget_handle\u001b[49m\u001b[43m(\u001b[49m\n\u001b[0;32m   1526\u001b[0m \u001b[43m    \u001b[49m\u001b[43mcontent_or_path\u001b[49m\u001b[43m,\u001b[49m\u001b[43m \u001b[49m\u001b[38;5;124;43m\"\u001b[39;49m\u001b[38;5;124;43mrb\u001b[39;49m\u001b[38;5;124;43m\"\u001b[39;49m\u001b[43m,\u001b[49m\u001b[43m \u001b[49m\u001b[43mstorage_options\u001b[49m\u001b[38;5;241;43m=\u001b[39;49m\u001b[43mstorage_options\u001b[49m\u001b[43m,\u001b[49m\u001b[43m \u001b[49m\u001b[43mis_text\u001b[49m\u001b[38;5;241;43m=\u001b[39;49m\u001b[38;5;28;43;01mFalse\u001b[39;49;00m\n\u001b[0;32m   1527\u001b[0m \u001b[43m\u001b[49m\u001b[43m)\u001b[49m \u001b[38;5;28;01mas\u001b[39;00m handle:\n\u001b[0;32m   1528\u001b[0m     stream \u001b[38;5;241m=\u001b[39m handle\u001b[38;5;241m.\u001b[39mhandle\n\u001b[0;32m   1529\u001b[0m     stream\u001b[38;5;241m.\u001b[39mseek(\u001b[38;5;241m0\u001b[39m)\n",
      "File \u001b[1;32m~\\Downloads\\Nouveau dossier\\lib\\site-packages\\pandas\\io\\common.py:865\u001b[0m, in \u001b[0;36mget_handle\u001b[1;34m(path_or_buf, mode, encoding, compression, memory_map, is_text, errors, storage_options)\u001b[0m\n\u001b[0;32m    856\u001b[0m         handle \u001b[38;5;241m=\u001b[39m \u001b[38;5;28mopen\u001b[39m(\n\u001b[0;32m    857\u001b[0m             handle,\n\u001b[0;32m    858\u001b[0m             ioargs\u001b[38;5;241m.\u001b[39mmode,\n\u001b[1;32m   (...)\u001b[0m\n\u001b[0;32m    861\u001b[0m             newline\u001b[38;5;241m=\u001b[39m\u001b[38;5;124m\"\u001b[39m\u001b[38;5;124m\"\u001b[39m,\n\u001b[0;32m    862\u001b[0m         )\n\u001b[0;32m    863\u001b[0m     \u001b[38;5;28;01melse\u001b[39;00m:\n\u001b[0;32m    864\u001b[0m         \u001b[38;5;66;03m# Binary mode\u001b[39;00m\n\u001b[1;32m--> 865\u001b[0m         handle \u001b[38;5;241m=\u001b[39m \u001b[38;5;28;43mopen\u001b[39;49m\u001b[43m(\u001b[49m\u001b[43mhandle\u001b[49m\u001b[43m,\u001b[49m\u001b[43m \u001b[49m\u001b[43mioargs\u001b[49m\u001b[38;5;241;43m.\u001b[39;49m\u001b[43mmode\u001b[49m\u001b[43m)\u001b[49m\n\u001b[0;32m    866\u001b[0m     handles\u001b[38;5;241m.\u001b[39mappend(handle)\n\u001b[0;32m    868\u001b[0m \u001b[38;5;66;03m# Convert BytesIO or file objects passed with an encoding\u001b[39;00m\n",
      "\u001b[1;31mFileNotFoundError\u001b[0m: [Errno 2] No such file or directory: 'C:\\\\Users\\\\M22O101\\\\Downloads\\\\Openclasroom\\\\Projet 6\\\\web.xlsx'"
     ]
    }
   ],
   "source": [
    "import pandas as pd\n",
    "\n",
    "# Importation du fichier web.xlsx\n",
    "df_web = pd.read_excel(r\"C:\\Users\\M22O101\\Downloads\\Openclasroom\\Projet 6\\web.xlsx\")\n",
    "\n",
    "# Importation du fichier erp.xlsx\n",
    "df_erp = pd.read_excel(r\"C:\\Users\\M22O101\\Downloads\\Openclasroom\\Projet 6\\erp.xlsx\")\n",
    "\n"
   ]
  },
  {
   "cell_type": "markdown",
   "id": "2626adc6",
   "metadata": {},
   "source": [
    "<div style=\"border: 1px solid RGB(51,165,182);\" >\n",
    "<h3 style=\"margin: auto; padding: 20px; color: RGB(51,165,182); \">1.2 - Chargements du fichiers csv</h3>\n",
    "</div>"
   ]
  },
  {
   "cell_type": "markdown",
   "id": "e16ec712",
   "metadata": {},
   "source": [
    "<div style=\"color: RGB(255,114,0)\">\n",
    "<h3>Information Mentor</h3>\n",
    "L'étudiant va être très certainement confronté à des difficultés pour ouvrir ce fichier.\n",
    "Il faudra donc qu'il se documente sur les points suivants:<br>\n",
    "- notion d'encodage en informatique. (\"UTF-8\", \"ISO-8859-1\", etc)<br>\n",
    "- manipulation de fichier csv, tsv, etc<br>\n",
    "<br>\n",
    "Pour lui faire réussir cette étape, l'étudiant devrait suivre ces directives:<br>\n",
    "- Explorer le fichier à l'aide d'un outil comme Notepad++ afin de visualiser la structure du fichier<br>\n",
    "- ... ou d'utiliser Excel pour les mêmes raisons. Mais dans ce cas l'étudiant pourrait être tenté de convertir le fichier csv en xlsx, ce que je ne recommande pas: si le fichier est trop gros pour Excel cela deviendra une souffrance de procéder ainsi<br>\n",
    "- apprendre à ourvrir un fichier avec python à l'aide de l'instruction suivante: <code>with open(nom_fichier, \"rb\") as f: </code><br>\n",
    "- utiliser une bibliothèque comme <code>chardet</code> pour tenter d'identifier l'encodage du fichier<br>\n",
    "</div>"
   ]
  },
  {
   "cell_type": "code",
   "execution_count": null,
   "id": "7c8aceeb",
   "metadata": {},
   "outputs": [],
   "source": [
    "#Avant d'utiliser pandas pour le chargement du fichier, explorons la structure du fichier\n",
    "#Pour cela utilisons l'instruction ci-dessous qui permet d'ouvrir un fichier texte\n",
    "with open(\"caracteristiques_vins.csv\", \"rb\") as f:\n",
    "    file = f.read()\n",
    "    \n",
    "#Et affichons le:\n",
    "print(file)"
   ]
  },
  {
   "cell_type": "code",
   "execution_count": null,
   "id": "1d974fd1",
   "metadata": {},
   "outputs": [],
   "source": [
    "#Vous avez dû constater que les champs sont séparées par des point-virgule\n",
    "\n",
    "#tentons d'ouvrir le fichier avec pandas avec cet élément\n",
    "df_caracteristiques = pd.read_csv(\"caracteristiques_vins.csv\", sep=\";\")"
   ]
  },
  {
   "cell_type": "markdown",
   "id": "e05fd34b",
   "metadata": {},
   "source": [
    "Nous obtenons une erreur, elle est de type <code>UnicodeDecodeError</code><br>\n",
    "Celle-ci semble être liée à l'encodage du fichier<br>\n",
    "Utilisons la bibliothèque <code>chardet</code> pour tenter d'identifier l'encodage du fichier"
   ]
  },
  {
   "cell_type": "code",
   "execution_count": null,
   "id": "cacff790",
   "metadata": {},
   "outputs": [],
   "source": [
    "#Importation de la bibilothèque \n",
    "#(à noter que c'est une mauvaise pratique d'importer une bibliothèque au milieu d'un programme)\n",
    "#(celle-ci doit toujours figurer au début du script)\n",
    "import chardet"
   ]
  },
  {
   "cell_type": "markdown",
   "id": "825f050d",
   "metadata": {},
   "source": [
    "Rendez-vous sur le lien ci-après pour identifier l'instruction dont vous aurez besoin:<br>\n",
    "https://chardet.readthedocs.io/en/latest/usage.html#basic-usage"
   ]
  },
  {
   "cell_type": "code",
   "execution_count": null,
   "id": "be0a4b56",
   "metadata": {},
   "outputs": [],
   "source": [
    "#Identification de l'encodage du fichier\n"
   ]
  },
  {
   "cell_type": "code",
   "execution_count": null,
   "id": "0e64a4c4",
   "metadata": {},
   "outputs": [],
   "source": [
    "#A présent que nous connaissons les séparateurs et l'encodage du fichier\n",
    "#Utilisons Pandas pour charger le fichier\n",
    "#Je vous laisse le soin de renseigner les champs manquants\n",
    "nom_du_fichier = \"\"\n",
    "type_de_separateur = \"\"\n",
    "encodage_du_fichier_csv = \"\"\n",
    "\n",
    "df_caracteristiques = pd.read_csv(nom_du_fichier, sep=type_de_separateur, encoding=encodage_du_fichier_csv)"
   ]
  },
  {
   "cell_type": "markdown",
   "id": "605f7056",
   "metadata": {},
   "source": [
    "<div style=\"background-color: RGB(51,165,182);\" >\n",
    "<h2 style=\"margin: auto; padding: 20px; color:#fff; \">Etape 2 - Analyse exploratoire des fichiers</h2>\n",
    "</div>"
   ]
  },
  {
   "cell_type": "markdown",
   "id": "47d3a649",
   "metadata": {},
   "source": [
    "<div style=\"border: 1px solid RGB(51,165,182);\" >\n",
    "<h3 style=\"margin: auto; padding: 20px; color: RGB(51,165,182); \">2.1 - Analyse exploratoire du fichier erp.xlsx</h3>\n",
    "</div>"
   ]
  },
  {
   "cell_type": "code",
   "execution_count": null,
   "id": "094ef206",
   "metadata": {},
   "outputs": [],
   "source": [
    "#Afficher les dimensions du dataset\n",
    "print(\"Le tableau comporte {} observation(s) ou article(s)\".format(df_erp.shape[0]))\n",
    "print(\"Le tableau comporte {} colonne(s)\".format(df_erp.shape[1]))"
   ]
  },
  {
   "cell_type": "code",
   "execution_count": null,
   "id": "182441f0",
   "metadata": {},
   "outputs": [],
   "source": [
    "#Consulter le nombre de colonnes\n",
    "#La nature des données dans chacune des colonnes\n",
    "#Le nombre de valeurs présentes dans chacune des colonnes\n"
   ]
  },
  {
   "cell_type": "code",
   "execution_count": null,
   "id": "d3977646",
   "metadata": {},
   "outputs": [],
   "source": [
    "#Afficher les 5 premières lignes de la table\n"
   ]
  },
  {
   "cell_type": "code",
   "execution_count": null,
   "id": "db102a4a",
   "metadata": {},
   "outputs": [],
   "source": [
    "#Vérifier si il y a les lignes en doublons dans la colonne product_id\n"
   ]
  },
  {
   "cell_type": "code",
   "execution_count": null,
   "id": "d443d4ff",
   "metadata": {},
   "outputs": [],
   "source": [
    "#Afficher les valeurs distinctes de la colonne stock_status\n",
    "#À quelle(s) autre(s) colonne(s) sont-elles liées ?\n"
   ]
  },
  {
   "cell_type": "code",
   "execution_count": null,
   "id": "68088943",
   "metadata": {},
   "outputs": [],
   "source": [
    "#Création d'une colonne \"stock_status_2\n",
    "#La valeur de cette deuxième colonne sera fonction de la valeur dans la colonne \"stock_quantity\"\n",
    "#si la valeur de la colonne \"stock_quantity\" est nulle renseigner \"outofstock\" sinon mettre \"instock\"\n"
   ]
  },
  {
   "cell_type": "code",
   "execution_count": null,
   "id": "90a1c8ae",
   "metadata": {},
   "outputs": [],
   "source": [
    "#Vérifions que les 2 colonnes sont identiques:\n",
    "#Les 2 colonnes sont strictement identiques si les valeurs de chaque ligne sont strictement identiques 2 à 2\n",
    "#La comparaison de 2 colonnes peut se réaliser simplement avec l'instruction ci-dessous:\n",
    "df_erp[\"stock_status\"] == df_erp[\"stock_status_2\"]\n",
    "\n",
    "#Le résultat est l'affichage de True ou False pour chacune des lignes du dataset\n",
    "#C'est un bon début, mais difficile à exploiter"
   ]
  },
  {
   "cell_type": "code",
   "execution_count": null,
   "id": "ebe3650a",
   "metadata": {},
   "outputs": [],
   "source": [
    "#Mais il est possible de synthétiser ce résultat en effectuant la somme de cette colonne:\n",
    "#True vaut 1 et False 0\n",
    "#Nous devrions obtenir la somme de 824 qui correspond au nombre de lignes dans ce dataset"
   ]
  },
  {
   "cell_type": "code",
   "execution_count": null,
   "id": "1ca6060a",
   "metadata": {},
   "outputs": [],
   "source": [
    "#Si les colonnes ne sont absolument pas identiques ligne à ligne alors identifier la ligne en écart\n",
    "##Dans ce cas je vous ce lien pour apprendre à réaliser des filtres dans Pandas:\n",
    "##https://bitbucket.org/hrojas/learn-pandas/src/master/\n",
    "##Lesson 3"
   ]
  },
  {
   "cell_type": "code",
   "execution_count": null,
   "id": "ce1b9704",
   "metadata": {},
   "outputs": [],
   "source": [
    "#Corriger la ou les données incohérentes\n",
    "\n"
   ]
  },
  {
   "cell_type": "markdown",
   "id": "08bd4b08",
   "metadata": {},
   "source": [
    "<div style=\"border: 1px solid RGB(51,165,182);\" >\n",
    "<h3 style=\"margin: auto; padding: 20px; color: RGB(51,165,182); \">2.1.1 - Analyse exploratoire de chaque variable du fichier erp.xlsx</h3>\n",
    "</div>"
   ]
  },
  {
   "cell_type": "markdown",
   "id": "3476df40",
   "metadata": {},
   "source": [
    "<div style=\"border: 1px solid RGB(51,165,182);\" >\n",
    "<h3 style=\"margin: auto; padding: 20px; color: RGB(51,165,182); \">2.1.1.1 - Analyse de la variable PRIX</h3>\n",
    "</div>"
   ]
  },
  {
   "cell_type": "code",
   "execution_count": null,
   "id": "a7fc3384",
   "metadata": {},
   "outputs": [],
   "source": [
    "###############\n",
    "## LES PRIX  ##\n",
    "###############\n",
    "\n",
    "#Vérification des prix: Y a t-il des prix non renseignés, négatif ou nul?\n",
    "#Afficher le ou les prix non renseignés dans la colonne \"price\"\n",
    "print(\"Nombres d'article avec un prix non renseignés: {}\".format()) #Saisir l'instruction manquante dans la fonction format\n",
    "#Afficher le prix minimum de la colonne \"price\"\n",
    "\n",
    "#Afficher le prix maximum de la colonne \"price\"\n"
   ]
  },
  {
   "cell_type": "markdown",
   "id": "c5fce58c",
   "metadata": {},
   "source": [
    "<div style=\"border: 1px solid RGB(51,165,182);\" >\n",
    "<h3 style=\"margin: auto; padding: 20px; color: RGB(51,165,182); \">2.1.1.2 - Analyse de la variable STOCK</h3>\n",
    "</div>"
   ]
  },
  {
   "cell_type": "code",
   "execution_count": null,
   "id": "3d14c4a0",
   "metadata": {},
   "outputs": [],
   "source": [
    "#######################\n",
    "### stock_quantity  ###\n",
    "#######################\n",
    "\n",
    "#Vérification de la colonne stock quantity\n",
    "#Afficher la quantité minimum de la colonne \"stock_quantity\"\n",
    "\n",
    "#Afficher la quantité maximum de la colonne \"stock_quantity\"\n"
   ]
  },
  {
   "cell_type": "markdown",
   "id": "20e8c554",
   "metadata": {},
   "source": [
    "<div style=\"border: 1px solid RGB(51,165,182);\" >\n",
    "<h3 style=\"margin: auto; padding: 20px; color: RGB(51,165,182); \">2.1.1.3 - Analyse de la variable ONSALE_WEB</h3>\n",
    "</div>"
   ]
  },
  {
   "cell_type": "code",
   "execution_count": null,
   "id": "99b936ca",
   "metadata": {},
   "outputs": [],
   "source": [
    "#Vérification de la colonne onsale_web et des valeurs qu'elle contient? Que signifient-elles?\n"
   ]
  },
  {
   "cell_type": "code",
   "execution_count": null,
   "id": "5a79444d",
   "metadata": {},
   "outputs": [],
   "source": [
    "#Quelles sont les colonnes à conserver selon vous?\n"
   ]
  },
  {
   "cell_type": "code",
   "execution_count": null,
   "id": "8053aeda",
   "metadata": {},
   "outputs": [],
   "source": [
    "#Supprimer les colonnes comportant le libellé \"stock_status\"\n",
    "#Cette colonne est redondante avec la colonne \"stock_quantity\". Dans notre projet cette information n'est pas utile.\n"
   ]
  },
  {
   "cell_type": "markdown",
   "id": "a550f996",
   "metadata": {},
   "source": [
    "<div style=\"border: 1px solid RGB(51,165,182);\" >\n",
    "<h3 style=\"margin: auto; padding: 20px; color: RGB(51,165,182); \">2.2 - Analyse exploratoire du fichier web.xlsx</h3>\n",
    "</div>\n",
    " "
   ]
  },
  {
   "cell_type": "code",
   "execution_count": null,
   "id": "bb7e292c",
   "metadata": {},
   "outputs": [],
   "source": [
    "#Dimension du dataset\n",
    "#Nombre d'observations\n",
    "\n",
    "#Nombre de caractéristiques\n"
   ]
  },
  {
   "cell_type": "code",
   "execution_count": null,
   "id": "0b70a8da",
   "metadata": {},
   "outputs": [],
   "source": [
    "#Consulter le nombre de colonnes\n",
    "#La nature des données dans chacune des colonnes\n",
    "#Le nombre de valeurs présentes dans chacune des colonnes\n"
   ]
  },
  {
   "cell_type": "code",
   "execution_count": null,
   "id": "b0d2f149",
   "metadata": {},
   "outputs": [],
   "source": [
    "#Selon vous, quelles sont les colonnes à conserver ?\n"
   ]
  },
  {
   "cell_type": "code",
   "execution_count": null,
   "id": "30b2196b",
   "metadata": {},
   "outputs": [],
   "source": [
    "#Si vous avez défini des colonnes à supprimer, effectuer l'opération\n"
   ]
  },
  {
   "cell_type": "code",
   "execution_count": null,
   "id": "1b965d06",
   "metadata": {},
   "outputs": [],
   "source": [
    "#Visualisation des valeurs de la colonne sku\n",
    "#Quelles sont les valeurs qui ne semblent pas respecter la régle de codification?\n",
    "\n"
   ]
  },
  {
   "cell_type": "code",
   "execution_count": null,
   "id": "1226dcfd",
   "metadata": {},
   "outputs": [],
   "source": [
    "#Si vous avez identifié des codes articles ne respectant pas la régle de codification, consultez-les?\n"
   ]
  },
  {
   "cell_type": "code",
   "execution_count": null,
   "id": "967495da",
   "metadata": {},
   "outputs": [],
   "source": [
    "#Pour les codes articles identifiés, réalisé une analyse et définissez l'action à entreprendre\n"
   ]
  },
  {
   "cell_type": "code",
   "execution_count": null,
   "id": "27bf30de",
   "metadata": {},
   "outputs": [],
   "source": [
    "#La clé pour chaque ligne est-elle uniques? ou autrement dit, y a-t-il des doublons?\n"
   ]
  },
  {
   "cell_type": "code",
   "execution_count": null,
   "id": "eb8d31bf",
   "metadata": {},
   "outputs": [],
   "source": [
    "#Identifier les lignes sans code articles\n"
   ]
  },
  {
   "cell_type": "code",
   "execution_count": null,
   "id": "8b81d617",
   "metadata": {},
   "outputs": [],
   "source": [
    "#Les lignes sans code article semble être toutes non renseignés\n",
    "#Pour s'en assurer réaliser les étapes suivantes:\n",
    "#1 - Créer un dataframe avec uniquement les lignes sans code article\n",
    "\n",
    "#2 - utiliser la fonction df.info() sur ce nouveau dataframe pour observer le nombre de valeur reseigner dans chacune des colonnes\n",
    "\n",
    "#3 - Que constatez-vous?"
   ]
  },
  {
   "cell_type": "markdown",
   "id": "dbff6403",
   "metadata": {},
   "source": [
    "<div style=\"border: 1px solid RGB(51,165,182);\" >\n",
    "<h3 style=\"margin: auto; padding: 20px; color: RGB(51,165,182); \">2.3 - Analyse exploratoire du fichier liaison.xlsx</h3>\n",
    "</div>"
   ]
  },
  {
   "cell_type": "code",
   "execution_count": null,
   "id": "de426b74",
   "metadata": {},
   "outputs": [],
   "source": [
    "#Dimension du dataset\n",
    "#Nombre d'observations\n",
    "\n",
    "#Nombre de caractéristiques\n"
   ]
  },
  {
   "cell_type": "code",
   "execution_count": null,
   "id": "9834ae33",
   "metadata": {},
   "outputs": [],
   "source": [
    "#Consulter le nombre de colonnes\n",
    "#La nature des données dans chacune des colonnes\n",
    "#Le nombre de valeurs présentes dans chacune des colonnes\n"
   ]
  },
  {
   "cell_type": "code",
   "execution_count": null,
   "id": "2b30d6b2",
   "metadata": {},
   "outputs": [],
   "source": [
    "#Les valeurs de la colonne \"product_id\" sont elles toutes uniques?\n"
   ]
  },
  {
   "cell_type": "code",
   "execution_count": null,
   "id": "4d8ca13c",
   "metadata": {},
   "outputs": [],
   "source": [
    "#Les valeurs de la colonne \"id_web\" sont-elles toutes uniques?\n"
   ]
  },
  {
   "cell_type": "code",
   "execution_count": null,
   "id": "52f7c843",
   "metadata": {},
   "outputs": [],
   "source": [
    "#Avons-nous des articles sans correspondances?\n"
   ]
  },
  {
   "cell_type": "markdown",
   "id": "6a278ffc",
   "metadata": {},
   "source": [
    "<div style=\"border: 1px solid RGB(51,165,182);\" >\n",
    "<h3 style=\"margin: auto; padding: 20px; color: RGB(51,165,182); \">2.4 - Analyse exploratoire du fichier caracteristiques_vins.xlsx</h3>\n",
    "</div>"
   ]
  },
  {
   "cell_type": "code",
   "execution_count": null,
   "id": "d0daa5a3",
   "metadata": {},
   "outputs": [],
   "source": [
    "#Dimension du dataset\n",
    "#Nombre d'observations\n",
    "\n",
    "#Nombre de caractéristiques\n"
   ]
  },
  {
   "cell_type": "code",
   "execution_count": null,
   "id": "2e893258",
   "metadata": {},
   "outputs": [],
   "source": [
    "#Consulter le nombre de colonnes\n",
    "#La nature des données dans chacune des colonnes\n",
    "#Le nombre de valeurs présentes dans chacune des colonnes\n"
   ]
  },
  {
   "cell_type": "code",
   "execution_count": null,
   "id": "31f1a87b",
   "metadata": {},
   "outputs": [],
   "source": [
    "#Affichage des 5 premières lignes du dataset\n"
   ]
  },
  {
   "cell_type": "code",
   "execution_count": null,
   "id": "6c7ede58",
   "metadata": {},
   "outputs": [],
   "source": [
    "#Quels sont les produits avec des informations manquantes?\n"
   ]
  },
  {
   "cell_type": "code",
   "execution_count": null,
   "id": "5b179d11",
   "metadata": {},
   "outputs": [],
   "source": [
    "#Est-il possible de corriger les données manquantes? \n"
   ]
  },
  {
   "cell_type": "markdown",
   "id": "1a359137",
   "metadata": {},
   "source": [
    "<div style=\"background-color: RGB(51,165,182);\" >\n",
    "<h2 style=\"margin: auto; padding: 20px; color:#fff; \">Etape 3 - Jonction des fichiers</h2>\n",
    "</div>"
   ]
  },
  {
   "cell_type": "markdown",
   "id": "b7750c10",
   "metadata": {},
   "source": [
    "<div style=\"border: 1px solid RGB(51,165,182);\" >\n",
    "<h3 style=\"margin: auto; padding: 20px; color: RGB(51,165,182); \">Etape 3.1 - Jonction du fichier df_erp et df_liaison</h3>\n",
    "</div>"
   ]
  },
  {
   "cell_type": "code",
   "execution_count": null,
   "id": "e756ec7d",
   "metadata": {},
   "outputs": [],
   "source": [
    "#Fusion des fichiers df_erp et df_liaison\n"
   ]
  },
  {
   "cell_type": "code",
   "execution_count": null,
   "id": "b7e1da5e",
   "metadata": {},
   "outputs": [],
   "source": [
    "#Y a t-il des lignes ne \"matchant\" entre les 2 fichiers?\n"
   ]
  },
  {
   "cell_type": "markdown",
   "id": "fe4c51d7",
   "metadata": {},
   "source": [
    "<div style=\"border: 1px solid RGB(51,165,182);\" >\n",
    "<h3 style=\"margin: auto; padding: 20px; color: RGB(51,165,182); \">Etape 3.2 - Jonction du fichier df_merge et df_web</h3>\n",
    "</div>"
   ]
  },
  {
   "cell_type": "code",
   "execution_count": null,
   "id": "46d9382b",
   "metadata": {},
   "outputs": [],
   "source": [
    "#Fusionnez les datasets df_merge et df_web\n"
   ]
  },
  {
   "cell_type": "code",
   "execution_count": null,
   "id": "2021762f",
   "metadata": {},
   "outputs": [],
   "source": [
    "#Avons-nous des lignes sans correspondances?\n"
   ]
  },
  {
   "cell_type": "code",
   "execution_count": null,
   "id": "e435735c",
   "metadata": {},
   "outputs": [],
   "source": []
  },
  {
   "cell_type": "markdown",
   "id": "9130b729",
   "metadata": {},
   "source": [
    "<div style=\"border: 1px solid RGB(51,165,182);\" >\n",
    "<h3 style=\"margin: auto; padding: 20px; color: RGB(51,165,182); \">Etape 3.3 - Jonction du fichier df_merge et df_caracteristiques</h3>\n",
    "</div>"
   ]
  },
  {
   "cell_type": "code",
   "execution_count": null,
   "id": "3adf8bbc",
   "metadata": {},
   "outputs": [],
   "source": [
    "#Fusion de la table df_merge et df_caracteristiques \n"
   ]
  },
  {
   "cell_type": "markdown",
   "id": "13d81fd6",
   "metadata": {},
   "source": [
    "<div style=\"background-color: RGB(51,165,182);\" >\n",
    "<h2 style=\"margin: auto; padding: 20px; color:#fff; \">Etape 4 - Analyse univarié des prix</h2>\n",
    "</div>"
   ]
  },
  {
   "cell_type": "markdown",
   "id": "9c8d0615",
   "metadata": {},
   "source": [
    "<div style=\"border: 1px solid RGB(51,165,182);\" >\n",
    "<h3 style=\"margin: auto; padding: 20px; color: RGB(51,165,182); \">Etape 4.1 - Exploration par la visualisation de données</h3>\n",
    "</div>"
   ]
  },
  {
   "cell_type": "code",
   "execution_count": null,
   "id": "3be61f06",
   "metadata": {},
   "outputs": [],
   "source": [
    "#Création d'une Boite à moustache de la répartition des prix grâce à Pandas\n"
   ]
  },
  {
   "cell_type": "code",
   "execution_count": null,
   "id": "cbfe6346",
   "metadata": {},
   "outputs": [],
   "source": [
    "#Autre méthode avec plotly express\n"
   ]
  },
  {
   "cell_type": "markdown",
   "id": "79e2f2eb",
   "metadata": {},
   "source": [
    "<div style=\"border: 1px solid RGB(51,165,182);\" >\n",
    "<h3 style=\"margin: auto; padding: 20px; color: RGB(51,165,182); \">Etape 4.2 - Exploration par l'utisation de méthodes statistique</h3>\n",
    "</div>"
   ]
  },
  {
   "cell_type": "markdown",
   "id": "0735c3b2",
   "metadata": {},
   "source": [
    "<div style=\"border: 1px solid RGB(51,165,182);\" >\n",
    "<h3 style=\"margin: auto; padding: 20px; color: RGB(51,165,182); \">Etape 4.2.1 - Identification par le Z-index</h3>\n",
    "</div>"
   ]
  },
  {
   "cell_type": "code",
   "execution_count": null,
   "id": "1950ef8d",
   "metadata": {},
   "outputs": [],
   "source": [
    "#Calculer la moyenne du prix\n",
    "\n",
    "#Calculer l'écart-type du prix\n",
    "\n",
    "#Calculer le Z-score\n"
   ]
  },
  {
   "cell_type": "code",
   "execution_count": null,
   "id": "9c2f435f",
   "metadata": {},
   "outputs": [],
   "source": [
    "#Quel est le seuil prix dont z-score est supérieur à 3?\n"
   ]
  },
  {
   "cell_type": "markdown",
   "id": "750f54f3",
   "metadata": {},
   "source": [
    "<div style=\"border: 1px solid RGB(51,165,182);\" >\n",
    "<h3 style=\"margin: auto; padding: 20px; color: RGB(51,165,182); \">Etape 4.2.2 - Identification par l'interval interquartile</h3>\n",
    "</div>"
   ]
  },
  {
   "cell_type": "code",
   "execution_count": null,
   "id": "6c0db8c0",
   "metadata": {},
   "outputs": [],
   "source": [
    "#Utilisation de la fonction describe de Pandas pour l'etude des mesures de dispersions\n"
   ]
  },
  {
   "cell_type": "code",
   "execution_count": null,
   "id": "a458ca14",
   "metadata": {},
   "outputs": [],
   "source": [
    "#Définissez un seuil pour les articles \"outliers\" en prix\n"
   ]
  },
  {
   "cell_type": "code",
   "execution_count": null,
   "id": "7d05cde7",
   "metadata": {},
   "outputs": [],
   "source": [
    "#Définissez le nombre d'articles et la proportion de l'ensemble du catalogue \"outliers\"\n"
   ]
  },
  {
   "cell_type": "code",
   "execution_count": null,
   "id": "06138432",
   "metadata": {},
   "outputs": [],
   "source": [
    "#Selon vous, ces outliers sont-ils justifiés ? Comment le démontrer si cela est possible ?\n"
   ]
  },
  {
   "cell_type": "markdown",
   "id": "640da2c8",
   "metadata": {},
   "source": [
    "<div style=\"background-color: RGB(51,165,182);\" >\n",
    "<h2 style=\"margin: auto; padding: 20px; color:#fff; \">Etape 5 - Analyse univarié du CA et des quantités vendues</h2>\n",
    "</div>"
   ]
  },
  {
   "cell_type": "markdown",
   "id": "5871c808",
   "metadata": {},
   "source": [
    "<div style=\"border: 1px solid RGB(51,165,182);\" >\n",
    "<h3 style=\"margin: auto; padding: 20px; color: RGB(51,165,182); \">Etape 5.1 - Analyse des ventes en CA</h3>\n",
    "</div>"
   ]
  },
  {
   "cell_type": "code",
   "execution_count": null,
   "id": "da0d5834",
   "metadata": {},
   "outputs": [],
   "source": [
    "##############################\n",
    "# Calculer le CA su site web #\n",
    "##############################\n",
    "\n",
    "#Créez une colonne calculant le CA par article\n",
    "\n",
    "#Calculez la somme de la colonne \"ca_par_article\"\n",
    "#Ce résultat correspond au chiffre d'affaire du site web\n"
   ]
  },
  {
   "cell_type": "code",
   "execution_count": null,
   "id": "4040ced7",
   "metadata": {},
   "outputs": [],
   "source": [
    "###############################\n",
    "# Palmares des articles en CA #\n",
    "###############################\n",
    "\n",
    "#Effectuer le tri dans l'ordre décroissant du CA du dataset df_merge\n",
    "\n",
    "#Réinitialiser l'index du dataset par un reset_index\n",
    "\n",
    "#Afficher les 20 premier articles en CA\n",
    "\n",
    "#Graphique en barre des 20 premiers articles avec plotly express\n"
   ]
  },
  {
   "cell_type": "code",
   "execution_count": null,
   "id": "d7e5e87b",
   "metadata": {},
   "outputs": [],
   "source": [
    "#############################\n",
    "# Calculer le 20 / 80 en CA #\n",
    "#############################\n",
    "\n",
    "#Créer une colonne calculant la part du CA de la ligne dans le dataset\n",
    "\n",
    "#Créer une colonne réalisant la somme cumulative de la colonne précedemment créée\n",
    "\n",
    "#Grâce au deux colonnes créées précedemment, calculer le nombre d'articles représentant 80% du CA\n",
    "\n",
    "#Afficher la proportion que représentent ce groupe d'articles dans le catalogue entier du site web\n"
   ]
  },
  {
   "cell_type": "markdown",
   "id": "8de7af87",
   "metadata": {},
   "source": [
    "<div style=\"border: 1px solid RGB(51,165,182);\" >\n",
    "<h3 style=\"margin: auto; padding: 20px; color: RGB(51,165,182); \">Etape 5.2 - Analyse des ventes en Quantités</h3>\n",
    "</div>"
   ]
  },
  {
   "cell_type": "code",
   "execution_count": null,
   "id": "ab222e08",
   "metadata": {},
   "outputs": [],
   "source": [
    "###############################\n",
    "# Palmares des articles en quantité #\n",
    "###############################\n",
    "\n",
    "#Effectuer le tri dans l'ordre décroissant de quantités vendues du dataset df_merge\n",
    "\n",
    "#Réinitialiser l'index du dataset par un reset_index\n",
    "\n",
    "#Afficher les 20 premier articles en quantité\n",
    "\n",
    "#Graphique en barre des 20 premiers articles avec plotly express\n"
   ]
  },
  {
   "cell_type": "code",
   "execution_count": null,
   "id": "2aad021e",
   "metadata": {},
   "outputs": [],
   "source": [
    "#############################\n",
    "# Calculer le 20 / 80 en CA #\n",
    "#############################\n",
    "\n",
    "#Créer une colonne calculant la part en quantité de la ligne dans le dataset\n",
    "\n",
    "#Créer une colonne réalisant la somme cumulative de la colonne précedemment créée\n",
    "\n",
    "#Grâce au deux colonnes créées précedemment, calculer le nombre d'articles représentant 80% des ventes en quantité\n",
    "\n",
    "#Afficher la proportion que représentent ce groupe d'articles dans le catalogue entier du site web\n"
   ]
  },
  {
   "cell_type": "markdown",
   "id": "f1d22f1d",
   "metadata": {},
   "source": [
    "<div style=\"border: 1px solid RGB(51,165,182);\" >\n",
    "<h3 style=\"margin: auto; padding: 20px; color: RGB(51,165,182); \">Etape 5.3 - Mettre à disposition la nouvelle table sur un fichier Excel</h3>\n",
    "</div>"
   ]
  },
  {
   "cell_type": "code",
   "execution_count": null,
   "id": "09bfe632",
   "metadata": {},
   "outputs": [],
   "source": [
    "#Mettre le dataset df_merge sur un fichier Excel\n",
    "#Cette étape peut-être utile pour partager le résultat du dataset obtenu pour le partager avec les équipes.  \n"
   ]
  }
 ],
 "metadata": {
  "kernelspec": {
   "display_name": "Python 3 (ipykernel)",
   "language": "python",
   "name": "python3"
  },
  "language_info": {
   "codemirror_mode": {
    "name": "ipython",
    "version": 3
   },
   "file_extension": ".py",
   "mimetype": "text/x-python",
   "name": "python",
   "nbconvert_exporter": "python",
   "pygments_lexer": "ipython3",
   "version": "3.10.9"
  }
 },
 "nbformat": 4,
 "nbformat_minor": 5
}
